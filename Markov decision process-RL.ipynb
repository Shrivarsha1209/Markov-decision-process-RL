{
 "cells": [
  {
   "cell_type": "code",
   "execution_count": 1,
   "metadata": {},
   "outputs": [
    {
     "name": "stdout",
     "output_type": "stream",
     "text": [
      "Note: you may need to restart the kernel to use updated packages.\n"
     ]
    },
    {
     "name": "stderr",
     "output_type": "stream",
     "text": [
      "ERROR: unknown command \"intsall\" - maybe you meant \"install\"\n",
      "\n"
     ]
    }
   ],
   "source": [
    "pip intsall pygame"
   ]
  },
  {
   "cell_type": "code",
   "execution_count": 2,
   "metadata": {},
   "outputs": [
    {
     "name": "stdout",
     "output_type": "stream",
     "text": [
      "pygame 2.6.0 (SDL 2.28.4, Python 3.11.9)\n",
      "Hello from the pygame community. https://www.pygame.org/contribute.html\n"
     ]
    }
   ],
   "source": [
    "import pygame\n",
    "import sys\n",
    " \n",
    "# Constants\n",
    "GRID_SIZE = 5\n",
    "CELL_SIZE = 100\n",
    "WIDTH, HEIGHT = GRID_SIZE * CELL_SIZE, GRID_SIZE * CELL_SIZE\n",
    "START = (4, 2)\n",
    "GOAL = (0, 4)\n",
    " \n",
    "# Colors\n",
    "WHITE = (255, 255, 255)\n",
    "BLACK = (0, 0, 0)\n",
    "GRAY = (150, 150, 150)\n",
    "GREEN = (0, 255, 0)\n",
    "BLUE = (0, 0, 255)\n",
    "RED = (255, 0, 0)\n",
    " \n",
    "# Grid definition\n",
    "grid = [\n",
    "    [0, 0, 0, 0, 3],\n",
    "    [0, 1, 1, 0, 0],\n",
    "    [0, 0, 0, 0, 0],\n",
    "    [0, 1, 0, 1, 0],\n",
    "    [0, 0, 2, 0, 0]\n",
    "]\n",
    " \n",
    "# Player starting position\n",
    "player = list(START)\n",
    "\n",
    "# Initialize Pygame\n",
    "pygame.init()\n",
    "screen = pygame.display.set_mode((WIDTH, HEIGHT))\n",
    "pygame.display.set_caption('Moving Grid')\n",
    "font = pygame.font.SysFont(None, 24)\n",
    " "
   ]
  },
  {
   "cell_type": "code",
   "execution_count": 3,
   "metadata": {},
   "outputs": [],
   "source": [
    "def draw_grid():\n",
    "    for i in range(GRID_SIZE):\n",
    "        for j in range(GRID_SIZE):\n",
    "            color = WHITE\n",
    "            if grid[i][j] == 1:\n",
    "                color = GRAY\n",
    "            elif grid[i][j] == 2:\n",
    "                color = GREEN\n",
    "            elif grid[i][j] == 3:\n",
    "                color = BLUE\n",
    "            pygame.draw.rect(screen, color, (j * CELL_SIZE, i * CELL_SIZE, CELL_SIZE, CELL_SIZE))\n",
    "            pygame.draw.rect(screen, BLACK, (j * CELL_SIZE, i * CELL_SIZE, CELL_SIZE, CELL_SIZE), 1)"
   ]
  },
  {
   "cell_type": "code",
   "execution_count": 4,
   "metadata": {},
   "outputs": [],
   "source": [
    "def draw_player():\n",
    "    pygame.draw.circle(screen, RED, (player[1] * CELL_SIZE + CELL_SIZE // 2, player[0] * CELL_SIZE + CELL_SIZE // 2), CELL_SIZE // 2)\n",
    " \n",
    "def display_details():\n",
    "    details = f\"Current Position: ({player[0]}, {player[1]})\"\n",
    "    actions = ['up', 'down', 'left', 'right']\n",
    "    for action in actions:\n",
    "        next_state = get_next_state(player, action)\n",
    "        if is_valid_move(next_state):\n",
    "            reward = get_reward(next_state)\n",
    "            details += f\"\\nMove {action}: Next State ({next_state[0]}, {next_state[1]}), Reward: {reward}\"\n",
    "        else:\n",
    "            details += f\"\\nMove {action}: Invalid Move\"\n",
    "    detail_surf = font.render(details, True, BLACK)\n",
    "    screen.blit(detail_surf, (10, HEIGHT + 10))"
   ]
  },
  {
   "cell_type": "code",
   "execution_count": 5,
   "metadata": {},
   "outputs": [],
   "source": [
    "def get_next_state(state, action):\n",
    "    x, y = state\n",
    "    if action == 'up':\n",
    "        x -= 1\n",
    "    elif action == 'down':\n",
    "        x += 1\n",
    "    elif action == 'left':\n",
    "        y -= 1\n",
    "    elif action == 'right':\n",
    "        y += 1\n",
    "    return [x, y]"
   ]
  },
  {
   "cell_type": "code",
   "execution_count": 6,
   "metadata": {},
   "outputs": [],
   "source": [
    "def is_valid_move(state):\n",
    "    x, y = state\n",
    "    return 0 <= x < GRID_SIZE and 0 <= y < GRID_SIZE and grid[x][y] != 1"
   ]
  },
  {
   "cell_type": "code",
   "execution_count": 7,
   "metadata": {},
   "outputs": [],
   "source": [
    "def get_reward(state):\n",
    "    x, y = state\n",
    "    if not is_valid_move(state):\n",
    "        return -float('inf')  # Invalid move\n",
    "    elif grid[x][y] == 3:\n",
    "        return 10  # Goal\n",
    "    elif grid[x][y] == 2:\n",
    "        return 5  # Special reward cell\n",
    "    else:\n",
    "        return -manhattan_distance(state, GOAL)  # Distance-based reward"
   ]
  },
  {
   "cell_type": "code",
   "execution_count": 8,
   "metadata": {},
   "outputs": [],
   "source": [
    "def manhattan_distance(state1, state2):\n",
    "    return abs(state1[0] - state2[0]) + abs(state1[1] - state2[1])"
   ]
  },
  {
   "cell_type": "code",
   "execution_count": 9,
   "metadata": {},
   "outputs": [],
   "source": [
    "# Main game loop\n",
    "running = True\n",
    "while running:\n",
    "    for event in pygame.event.get():\n",
    "        if event.type == pygame.QUIT:\n",
    "            running = False\n",
    "        elif event.type == pygame.KEYDOWN:\n",
    "            if event.key == pygame.K_UP:\n",
    "                next_pos = get_next_state(player, 'up')\n",
    "                if is_valid_move(next_pos):\n",
    "                    player = next_pos\n",
    "            elif event.key == pygame.K_DOWN:\n",
    "                next_pos = get_next_state(player, 'down')\n",
    "                if is_valid_move(next_pos):\n",
    "                    player = next_pos\n",
    "            elif event.key == pygame.K_LEFT:\n",
    "                next_pos = get_next_state(player, 'left')\n",
    "                if is_valid_move(next_pos):\n",
    "                    player = next_pos\n",
    "            elif event.key == pygame.K_RIGHT:\n",
    "                next_pos = get_next_state(player, 'right')\n",
    "                if is_valid_move(next_pos):\n",
    "                    player = next_pos\n",
    " \n",
    "            # Check for goal reached\n",
    "            if grid[player[0]][player[1]] == 3:\n",
    "                print('Goal reached!')\n",
    "                running = False\n",
    " \n",
    "    screen.fill(WHITE)\n",
    "    draw_grid()\n",
    "    draw_player()\n",
    "    display_details()\n",
    "    pygame.display.flip()\n",
    " \n",
    "pygame.quit()\n",
    "sys.exit()"
   ]
  }
 ],
 "metadata": {
  "kernelspec": {
   "display_name": "Python 3",
   "language": "python",
   "name": "python3"
  },
  "language_info": {
   "codemirror_mode": {
    "name": "ipython",
    "version": 3
   },
   "file_extension": ".py",
   "mimetype": "text/x-python",
   "name": "python",
   "nbconvert_exporter": "python",
   "pygments_lexer": "ipython3",
   "version": "3.11.9"
  }
 },
 "nbformat": 4,
 "nbformat_minor": 2
}
